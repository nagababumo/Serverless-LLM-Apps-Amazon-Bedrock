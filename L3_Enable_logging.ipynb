{
 "cells": [
  {
   "cell_type": "markdown",
   "id": "cc6b7b9f-a75d-4b78-930f-26d2343ac2c2",
   "metadata": {},
   "source": [
    "# Lesson 3: Enable Logging"
   ]
  },
  {
   "cell_type": "markdown",
   "id": "06fc5839-0b4b-42a3-9aaf-99a97e347955",
   "metadata": {},
   "source": [
    "### Import all needed packages"
   ]
  },
  {
   "cell_type": "code",
   "execution_count": 1,
   "id": "63cf31e4",
   "metadata": {
    "height": 98
   },
   "outputs": [],
   "source": [
    "import boto3\n",
    "import json\n",
    "import os\n",
    "\n",
    "bedrock = boto3.client('bedrock', region_name=\"us-west-2\")"
   ]
  },
  {
   "cell_type": "code",
   "execution_count": 2,
   "id": "e5d9e31b",
   "metadata": {
    "height": 47
   },
   "outputs": [],
   "source": [
    "from helpers.CloudWatchHelper import CloudWatch_Helper\n",
    "cloudwatch = CloudWatch_Helper()"
   ]
  },
  {
   "cell_type": "code",
   "execution_count": 3,
   "id": "87a30e7e",
   "metadata": {
    "height": 30
   },
   "outputs": [],
   "source": [
    "log_group_name = '/my/amazon/bedrock/logs'"
   ]
  },
  {
   "cell_type": "code",
   "execution_count": 4,
   "id": "2461a51c",
   "metadata": {
    "height": 30
   },
   "outputs": [
    {
     "name": "stdout",
     "output_type": "stream",
     "text": [
      "Log group '/my/amazon/bedrock/logs' created successfully.\n"
     ]
    }
   ],
   "source": [
    "cloudwatch.create_log_group(log_group_name)"
   ]
  },
  {
   "cell_type": "code",
   "execution_count": 5,
   "id": "0afe5997",
   "metadata": {
    "height": 268
   },
   "outputs": [],
   "source": [
    "loggingConfig = {\n",
    "    'cloudWatchConfig': {\n",
    "        'logGroupName': log_group_name,\n",
    "        'roleArn': os.environ['LOGGINGROLEARN'],\n",
    "        'largeDataDeliveryS3Config': {\n",
    "            'bucketName': os.environ['LOGGINGBUCKETNAME'],\n",
    "            'keyPrefix': 'amazon_bedrock_large_data_delivery',\n",
    "        }\n",
    "    },\n",
    "    's3Config': {\n",
    "        'bucketName': os.environ['LOGGINGBUCKETNAME'],\n",
    "        'keyPrefix': 'amazon_bedrock_logs',\n",
    "    },\n",
    "    'textDataDeliveryEnabled': True,\n",
    "}"
   ]
  },
  {
   "cell_type": "code",
   "execution_count": 6,
   "id": "2ca33ffe",
   "metadata": {
    "height": 30
   },
   "outputs": [
    {
     "data": {
      "text/plain": [
       "{'ResponseMetadata': {'RequestId': '27334370-a730-49d2-b7a6-7eafe02ec60b',\n",
       "  'HTTPStatusCode': 200,\n",
       "  'HTTPHeaders': {'date': 'Fri, 14 Jun 2024 17:13:11 GMT',\n",
       "   'content-type': 'application/json',\n",
       "   'content-length': '2',\n",
       "   'connection': 'keep-alive',\n",
       "   'x-amzn-requestid': '27334370-a730-49d2-b7a6-7eafe02ec60b'},\n",
       "  'RetryAttempts': 0}}"
      ]
     },
     "execution_count": 6,
     "metadata": {},
     "output_type": "execute_result"
    }
   ],
   "source": [
    "bedrock.put_model_invocation_logging_configuration(loggingConfig=loggingConfig)"
   ]
  },
  {
   "cell_type": "code",
   "execution_count": 7,
   "id": "41fdb20d",
   "metadata": {
    "height": 30
   },
   "outputs": [
    {
     "data": {
      "text/plain": [
       "{'ResponseMetadata': {'RequestId': '34f99a2e-3ee7-44a2-9cbd-70ec6cf9eda4',\n",
       "  'HTTPStatusCode': 200,\n",
       "  'HTTPHeaders': {'date': 'Fri, 14 Jun 2024 17:13:11 GMT',\n",
       "   'content-type': 'application/json',\n",
       "   'content-length': '572',\n",
       "   'connection': 'keep-alive',\n",
       "   'x-amzn-requestid': '34f99a2e-3ee7-44a2-9cbd-70ec6cf9eda4'},\n",
       "  'RetryAttempts': 0},\n",
       " 'loggingConfig': {'cloudWatchConfig': {'logGroupName': '/my/amazon/bedrock/logs',\n",
       "   'roleArn': 'arn:aws:iam::191219984060:role/c99355a2566044l6920676t1w19121998406-LoggingIAMRole-iKZAyZO9dmzf',\n",
       "   'largeDataDeliveryS3Config': {'bucketName': 'c99355a2566044l6920676t1w191219984-loggings3bucket-pjguiggvgehz',\n",
       "    'keyPrefix': 'amazon_bedrock_large_data_delivery'}},\n",
       "  's3Config': {'bucketName': 'c99355a2566044l6920676t1w191219984-loggings3bucket-pjguiggvgehz',\n",
       "   'keyPrefix': 'amazon_bedrock_logs'},\n",
       "  'textDataDeliveryEnabled': True,\n",
       "  'imageDataDeliveryEnabled': True,\n",
       "  'embeddingDataDeliveryEnabled': True}}"
      ]
     },
     "execution_count": 7,
     "metadata": {},
     "output_type": "execute_result"
    }
   ],
   "source": [
    "bedrock.get_model_invocation_logging_configuration()"
   ]
  },
  {
   "cell_type": "code",
   "execution_count": 8,
   "id": "95ebecb7",
   "metadata": {
    "height": 30
   },
   "outputs": [],
   "source": [
    "bedrock_runtime = boto3.client('bedrock-runtime', region_name=\"us-west-2\")"
   ]
  },
  {
   "cell_type": "code",
   "execution_count": 14,
   "id": "402c6311",
   "metadata": {
    "height": 421
   },
   "outputs": [
    {
     "name": "stdout",
     "output_type": "stream",
     "text": [
      "\n",
      "Foobar is a fictional planet in the popular science fiction series \"Star Trek\". It is first mentioned in the original series episode \"The Enterprise Incident\" and is known for its unique and distinctive features.\n",
      "\n",
      "The planet is located in the Beta Quadrant of the galaxy and is home to a species of humanoids known as the Foobarians. The Foobarians are a peaceful, technologically advanced civilization that is known for their love of music and their advanced musical instruments.\n",
      "\n",
      "One of the most distinctive features of Foobar is its atmosphere. The planet has a thick, purple atmosphere that is filled with a unique scent known as \"Foobian incense\". This scent is so distinctive that it can be detected from orbit and is used as a form of identification by the Foobarians.\n",
      "\n",
      "The planet is also home to a unique species of plant life known as the \"Foobian flower\". These flowers are large and colorful and are native to the planet's surface. They are known for their ability to produce a powerful psychedelic drug that is used by the Foobarians for religious and recreational purposes.\n",
      "\n",
      "Despite its peaceful nature, Foobar has been the site of several conflicts with other civilizations in the galaxy. In the original series episode \"The Enterprise Incident\", the USS Enterprise is dispatched to Foobar to investigate a series of mysterious attacks on Federation ships. The crew discovers that the attacks are being carried out by a race of alien beings known as the Klingons, who are seeking to seize control of the planet's valuable resources.\n",
      "\n",
      "In subsequent episodes of the series, the crew of the Enterprise returns to Foobar on several occasions. In \"The Undiscovered Country\", the crew learns that the Klingons have established a secret base on the planet and are using it to launch attacks on the Federation. The crew must work with the Foobarians to defeat the Klingons and prevent the destruction of the planet.\n",
      "\n",
      "In \"Star Trek: Deep Space Nine\", the crew of the USS Defiant encounters the Ferengi, a race of businessmen who are seeking to establish a colony on Foobar. The crew must work with the Foobarians to prevent the Ferengi from taking control of the planet's resources and exploiting its population.\n",
      "\n",
      "Despite these conflicts, Foobar remains a peaceful and prosperous planet. The Foobarians are known for their hospitality and their love of music, and their technology is often sought after by other civilizations in the galaxy. The planet's unique atmosphere and plant life also make\n"
     ]
    }
   ],
   "source": [
    "prompt = \"Write an article about the fictional planet Foobar.\"\n",
    "\n",
    "kwargs = {\n",
    "    \"modelId\": \"amazon.titan-text-express-v1\",\n",
    "    \"contentType\": \"application/json\",\n",
    "    \"accept\": \"*/*\",\n",
    "    \"body\": json.dumps(\n",
    "        {\n",
    "            \"inputText\": prompt,\n",
    "            \"textGenerationConfig\": {\n",
    "                \"maxTokenCount\": 512,\n",
    "                \"temperature\": 0.7,\n",
    "                \"topP\": 0.9\n",
    "            }\n",
    "        }\n",
    "    )\n",
    "}\n",
    "\n",
    "response = bedrock_runtime.invoke_model(**kwargs)\n",
    "response_body = json.loads(response.get('body').read())\n",
    "\n",
    "generation = response_body['results'][0]['outputText']\n",
    "\n",
    "print(generation)"
   ]
  },
  {
   "cell_type": "code",
   "execution_count": 10,
   "id": "68a7bab7",
   "metadata": {
    "height": 30
   },
   "outputs": [
    {
     "name": "stdout",
     "output_type": "stream",
     "text": [
      "Permissions are correctly set for Amazon Bedrock logs.\n",
      "-------------------------\n",
      "\n"
     ]
    }
   ],
   "source": [
    "cloudwatch.print_recent_logs(log_group_name)"
   ]
  },
  {
   "cell_type": "markdown",
   "id": "1118acfb",
   "metadata": {},
   "source": [
    "To review the logs within the AWS console, please use the following link to reference the steps outlined in the video:"
   ]
  },
  {
   "cell_type": "code",
   "execution_count": 11,
   "id": "2cf443d2",
   "metadata": {
    "height": 47
   },
   "outputs": [],
   "source": [
    "from IPython.display import HTML\n",
    "aws_url = os.environ['AWS_CONSOLE_URL']"
   ]
  },
  {
   "cell_type": "code",
   "execution_count": 12,
   "id": "0b7c904c",
   "metadata": {
    "height": 47
   },
   "outputs": [
    {
     "data": {
      "text/html": [
       "<a href=\"https://signin.aws.amazon.com/federation?Action=login&SigninToken=hEcQ3Jrkk-fdRSkBacMeMNZ4-cfIlwhYfc4_BeOgu75MoCcHR0k9-4Qxk9nAKj8GcpYCDEpowMeTtkSLW1-eXHVImVaO7ANgAWlX4gu6bqqkDZwUSesBcU2QXARy10JZ3VCAt8JsrJfjQNq1CTRytuQWJx-s_RLUyIGkNXXDRo7GaZ2NlU09fbDse2vuwfgMeGcOWLS50L7pljifTY79Fh3Yl6bK5jzRj5epWptj_zqGsAvz9pO3POfwINyUnWlKDbh65jGckEhqhWvlXs1ijWh8GEYwIueaOHi7tKMDkkR2ozbJAZoqRf-_VfwWx5zIlemhVbWvrHfQC46OuxSvYdyoCDp8DwF0Oz2yDeB0HukLtasa9pdLNwczOV7MgSJX1hR8csFxGsHvU37bicu42RLNePGqc430aeyf6blzDIMRvXz_ADGz6KQkSxCQSsxToBOrZIljL6aMk7vGY3qrTYI4UK8KwrCu0mB27otCVsobzXsS64_6YYSdS6L7d6LhCTUyLEo3KbrtV9pQ7g485OFfwAqDwlS_tiWPVbn5GoOMAH0eIytwG3NT1VYRsO_fyb8C5Cd2DYC3Lx5quak0jz3KGBNuE5ilfW-XJcjMiy7vHZXExS7_CjDI2kUZzuya7csbTNv6Ejt-jm8ARW60OafV9C3LoMxBRwpFnDHnJNbjc-vZ1ETBTGJ8wHrGbuvjpmXh1VCJzacQAhHNH0VPVFO-ja1DCpA1gRVYoQc0-FZ9IojqFj0TwQ5xmSIic7Zbi4jfX-KGY1ui7rcg4Q9lAt7Egg2Z71b_V1vXCQF8R9ahfBZL2J37xIn4g188S9yLHt-dv6K0dpM8U4a3qR47IOEO5ufd-AWrz-MPZTJT6KgE-rPWYa96derKIkrmnMatoAjs0wOWRKCLJ2jRhXowxi3AyrksvTKiw8j9gz70QBRM9NRh47iAIqvYYakEIzlbfEgwiQggynjl9CpuXUWw2xKp3oOiB0TY4twzjuZi6-TYtEGL-aRki-hy-VKTzQryySeV3W-inhLCmIcAvQZctDF2nCr-7uLCGhA6jLO_yk-oUvTsjc2An11pUlVLVT7GGe06mdJVQpK5bIDMmErV7kbB4LfWAcQbcNjdGpLVSaOq7k_C4REeO9mKjsG7BVznEHW07He_-WB891nYyBpZV7iT9phnNcIBLsXoDuywkeHTWJ7bYbKK6g3wpo_HeeGkNv2OWJZX7X3MaV3vBP6pJ7ChVMtdaQ-EiDGf15_9-vDpiM8iqBGnrNP4rJyEljZRp_GgXUvp47HOEZLf7mf_lgsT_24K42HVFhAKwQDaKdc65tjcVOEfulgQqfh2Hp5GdiQDR4iO_YhSBQ9y-ni_PBMLyjf0O720MntVrPVfDL0XLgtuNWiqR8lIEeLNBR88GApYG2ClEPykGpDcEBv8boZjeGj1Dcgw77qOsCcyRjyXX8totho&Issuer=https%3A%2F%2Fapi.vocareum.com&Destination=https%3A%2F%2Fconsole.aws.amazon.com%2Fconsole%2Fhome%3Fregion%3Dus-west-2\" target=\"_blank\">GO TO AWS CONSOLE</a>"
      ],
      "text/plain": [
       "<IPython.core.display.HTML object>"
      ]
     },
     "execution_count": 12,
     "metadata": {},
     "output_type": "execute_result"
    }
   ],
   "source": [
    "HTML(f'<a href=\"{aws_url}\" target=\"_blank\">GO TO AWS CONSOLE</a>')\n"
   ]
  }
 ],
 "metadata": {
  "kernelspec": {
   "display_name": "Python 3 (ipykernel)",
   "language": "python",
   "name": "python3"
  },
  "language_info": {
   "codemirror_mode": {
    "name": "ipython",
    "version": 3
   },
   "file_extension": ".py",
   "mimetype": "text/x-python",
   "name": "python",
   "nbconvert_exporter": "python",
   "pygments_lexer": "ipython3",
   "version": "3.11.9"
  }
 },
 "nbformat": 4,
 "nbformat_minor": 5
}
